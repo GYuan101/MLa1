{
 "cells": [
  {
   "cell_type": "code",
   "execution_count": 1,
   "metadata": {},
   "outputs": [
    {
     "name": "stderr",
     "output_type": "stream",
     "text": [
      "C:\\Users\\H\\Anaconda3\\lib\\site-packages\\sklearn\\ensemble\\weight_boosting.py:29: DeprecationWarning: numpy.core.umath_tests is an internal NumPy module and should not be imported. It will be removed in a future NumPy release.\n",
      "  from numpy.core.umath_tests import inner1d\n",
      "In C:\\Users\\H\\Anaconda3\\lib\\site-packages\\matplotlib\\mpl-data\\stylelib\\_classic_test.mplstyle: \n",
      "The text.latex.unicode rcparam was deprecated in Matplotlib 3.0 and will be removed in 3.2.\n",
      "In C:\\Users\\H\\Anaconda3\\lib\\site-packages\\matplotlib\\mpl-data\\stylelib\\_classic_test.mplstyle: \n",
      "The savefig.frameon rcparam was deprecated in Matplotlib 3.1 and will be removed in 3.3.\n",
      "In C:\\Users\\H\\Anaconda3\\lib\\site-packages\\matplotlib\\mpl-data\\stylelib\\_classic_test.mplstyle: \n",
      "The pgf.debug rcparam was deprecated in Matplotlib 3.0 and will be removed in 3.2.\n",
      "In C:\\Users\\H\\Anaconda3\\lib\\site-packages\\matplotlib\\mpl-data\\stylelib\\_classic_test.mplstyle: \n",
      "The verbose.level rcparam was deprecated in Matplotlib 3.1 and will be removed in 3.3.\n",
      "In C:\\Users\\H\\Anaconda3\\lib\\site-packages\\matplotlib\\mpl-data\\stylelib\\_classic_test.mplstyle: \n",
      "The verbose.fileo rcparam was deprecated in Matplotlib 3.1 and will be removed in 3.3.\n"
     ]
    }
   ],
   "source": [
    "import numpy as np\n",
    "import pandas as pd\n",
    "import pdb\n",
    "from sklearn.preprocessing import LabelEncoder\n",
    "from sklearn.model_selection import train_test_split\n",
    "from sklearn.preprocessing import MinMaxScaler, StandardScaler\n",
    "from sklearn.tree import DecisionTreeClassifier\n",
    "from sklearn.ensemble import GradientBoostingClassifier\n",
    "from sklearn.svm import SVC\n",
    "from sklearn.neighbors import KNeighborsClassifier\n",
    "from sklearn.model_selection import cross_val_score, GridSearchCV\n",
    "import matplotlib.pyplot as plt\n",
    "import multiprocessing\n",
    "import pdb"
   ]
  },
  {
   "cell_type": "code",
   "execution_count": 2,
   "metadata": {},
   "outputs": [],
   "source": [
    "def data_prepare(data):\n",
    "    data_copy = data.copy()\n",
    "    numeric_col = list()\n",
    "    category_col = list()\n",
    "    for _col in data_copy.columns:\n",
    "        try:\n",
    "            data_copy.loc[:, _col] = data_copy.loc[:, _col].astype(np.float32)\n",
    "            numeric_col.append(_col)\n",
    "        except ValueError:\n",
    "            label_encoder = LabelEncoder().fit(data_copy.loc[:, _col].values)\n",
    "            _class = label_encoder.classes_\n",
    "            tmp_col = label_encoder.transform(data_copy.loc[:, _col].values)\n",
    "            if 'unknown' in _class:\n",
    "                tmp_col = np.where(tmp_col==label_encoder.transform(['unknown']), np.nan, tmp_col)\n",
    "            elif 'yes' in _class:\n",
    "                tmp_col = np.where(tmp_col==label_encoder.transform(['yes']), 1, tmp_col)\n",
    "            elif 'no' in _class:\n",
    "                tmp_col = np.where(tmp_col==label_encoder.transform(['no']), 0, tmp_col)\n",
    "\n",
    "            data_copy.loc[:, _col] = tmp_col.astype(np.float32)\n",
    "            category_col.append(_col)\n",
    "\n",
    "    return data_copy, numeric_col, category_col"
   ]
  },
  {
   "cell_type": "code",
   "execution_count": 3,
   "metadata": {},
   "outputs": [],
   "source": [
    "data = pd.read_csv('D:/GT/ML/a1/bank-additional/bank-additional.csv', sep=';', header=0)\n",
    "data_copy, numeric_col, category_col = data_prepare(data)\n",
    "data_copy.mask(data_copy.isnull(), data_copy.median(0), axis=1, inplace=True)\n",
    "\n",
    "x_train, x_test, y_train, y_test = train_test_split(data_copy.iloc[:, :-1], data_copy['y'], test_size=0.05, random_state=3407)\n",
    "\n",
    "scaler = MinMaxScaler()\n",
    "scaler.fit(x_train)\n",
    "x_train = scaler.transform(x_train)\n",
    "x_test = scaler.transform(x_test)"
   ]
  },
  {
   "cell_type": "markdown",
   "metadata": {},
   "source": [
    "### DT"
   ]
  },
  {
   "cell_type": "code",
   "execution_count": 57,
   "metadata": {},
   "outputs": [
    {
     "data": {
      "image/png": "[encoded data removed]",
      "text/plain": [
       "<Figure size 432x288 with 1 Axes>"
      ]
     },
     "metadata": {
      "needs_background": "light"
     },
     "output_type": "display_data"
    }
   ],
   "source": [
    "def md_score(d):\n",
    "    dt = DecisionTreeClassifier(max_depth=d)\n",
    "    return cross_val_score(dt, x_train, y_train, scoring='accuracy', cv=5).mean()\n",
    "\n",
    "depths = np.arange(3, 15)\n",
    "vals = np.linspace(0, 0.2, 100)\n",
    "scores = [md_score(d) for d in depths]\n",
    "plt.plot(depths, scores)\n",
    "plt.xlabel('max depth')\n",
    "plt.ylabel('accuracy')\n",
    "plt.show()"
   ]
  },
  {
   "cell_type": "code",
   "execution_count": 6,
   "metadata": {},
   "outputs": [
    {
     "name": "stdout",
     "output_type": "stream",
     "text": [
      "0.9355992844364938\n",
      "0.9067195160589641\n",
      "0.8883495145631068\n"
     ]
    }
   ],
   "source": [
    "dt = DecisionTreeClassifier(criterion='gini', max_depth=6)\n",
    "dt.fit(x_train, y_train)\n",
    "print(dt.score(x_train, y_train))\n",
    "print(cross_val_score(dt, x_train, y_train, scoring='accuracy', cv=5).mean())\n",
    "print(dt.score(x_test, y_test))"
   ]
  },
  {
   "cell_type": "code",
   "execution_count": 4,
   "metadata": {
    "scrolled": true
   },
   "outputs": [
    {
     "name": "stdout",
     "output_type": "stream",
     "text": [
      "gscv\n",
      "DecisionTreeClassifier(class_weight=None, criterion='entropy', max_depth=4,\n",
      "            max_features=None, max_leaf_nodes=None,\n",
      "            min_impurity_decrease=0.0, min_impurity_split=None,\n",
      "            min_samples_leaf=20, min_samples_split=10,\n",
      "            min_weight_fraction_leaf=0.0, presort=False, random_state=None,\n",
      "            splitter='best')\n"
     ]
    }
   ],
   "source": [
    "depths = np.arange(4, 9)\n",
    "vals = np.linspace(0, 0.05, 5)\n",
    "min_leaf = [1,5,10,20]\n",
    "min_split = [10,20,40,60,100]\n",
    "param_grid = [{'min_impurity_decrease': vals, 'max_depth': depths, 'criterion': ['gini', 'entropy'], \n",
    "               'min_samples_leaf':min_leaf, 'min_samples_split':min_split}]\n",
    "gs = GridSearchCV(estimator=DecisionTreeClassifier(), param_grid=param_grid, scoring='accuracy', cv=5, return_train_score=True)\n",
    "gscv = gs.fit(x_train, y_train)\n",
    "print('gscv')\n",
    "cv_result = pd.DataFrame.from_dict(gscv.cv_results_)\n",
    "with open('cv_result.csv', 'w') as f:\n",
    "    cv_result.to_csv(f)\n",
    "print(gscv.best_estimator_)"
   ]
  },
  {
   "cell_type": "code",
   "execution_count": 7,
   "metadata": {},
   "outputs": [
    {
     "name": "stdout",
     "output_type": "stream",
     "text": [
      "0.9171990799897777\n",
      "0.9072306983763021\n",
      "0.9029126213592233\n"
     ]
    }
   ],
   "source": [
    "dt = DecisionTreeClassifier(criterion='gini', max_depth=4, min_impurity_decrease=0.0, min_samples_leaf=10, min_samples_split=20)\n",
    "dt.fit(x_train, y_train)\n",
    "print(dt.score(x_train, y_train))\n",
    "print(cross_val_score(dt, x_train, y_train, scoring='accuracy', cv=5).mean())\n",
    "print(dt.score(x_test, y_test))"
   ]
  },
  {
   "cell_type": "code",
   "execution_count": 8,
   "metadata": {},
   "outputs": [
    {
     "name": "stdout",
     "output_type": "stream",
     "text": [
      "0.9297214413493483\n",
      "0.9069752705346673\n",
      "0.9174757281553398\n"
     ]
    }
   ],
   "source": [
    "dt = DecisionTreeClassifier(criterion='gini', max_depth=6, min_impurity_decrease=0.0, min_samples_leaf=10, min_samples_split=20)\n",
    "dt.fit(x_train, y_train)\n",
    "print(dt.score(x_train, y_train))\n",
    "print(cross_val_score(dt, x_train, y_train, scoring='accuracy', cv=5).mean())\n",
    "print(dt.score(x_test, y_test))"
   ]
  },
  {
   "cell_type": "code",
   "execution_count": 9,
   "metadata": {
    "scrolled": false
   },
   "outputs": [
    {
     "data": {
      "image/png": "[encoded data removed]",
      "text/plain": [
       "<Figure size 720x480 with 1 Axes>"
      ]
     },
     "metadata": {
      "needs_background": "light"
     },
     "output_type": "display_data"
    }
   ],
   "source": [
    "param_grid = [{'max_depth': depths}]\n",
    "gs = GridSearchCV(estimator=DecisionTreeClassifier(), param_grid=param_grid, scoring='accuracy', cv=5, return_train_score=True)\n",
    "gscv = gs.fit(x_train, y_train)\n",
    "train_scores_mean = gscv.cv_results_['mean_train_score']\n",
    "train_scores_std = gscv.cv_results_['std_train_score']\n",
    "test_scores_mean = gscv.cv_results_['mean_test_score']\n",
    "test_scores_std = gscv.cv_results_['std_test_score']\n",
    "plt.figure(figsize=(6, 4), dpi=120)   # 指定了大小和分辨率，还有背景颜色facecolor，还可以有边框之类的\n",
    "plt.title('parameters turning')\n",
    "plt.grid()\n",
    "plt.xlabel('max_depth')\n",
    "plt.ylabel('score')\n",
    "plt.fill_between(depths, train_scores_mean - train_scores_std, train_scores_mean + train_scores_std, alpha=0.1, color=\"r\")\n",
    "plt.fill_between(depths, test_scores_mean - test_scores_std, test_scores_mean + test_scores_std, alpha=0.1, color=\"g\")\n",
    "plt.plot(depths, train_scores_mean, '.--', color=\"r\", label=\"Training score\")\n",
    "plt.plot(depths, test_scores_mean, '.-', color=\"g\", label=\"Cross-validation score\")\n",
    "plt.legend(loc=\"best\")\n",
    "plt.show()"
   ]
  },
  {
   "cell_type": "markdown",
   "metadata": {},
   "source": [
    "### GBDT"
   ]
  },
  {
   "cell_type": "code",
   "execution_count": 11,
   "metadata": {},
   "outputs": [
    {
     "name": "stdout",
     "output_type": "stream",
     "text": [
      "0.9110637491711661\n",
      "0.9223300970873787\n"
     ]
    }
   ],
   "source": [
    "dt = GradientBoostingClassifier()\n",
    "dt.fit(x_train, y_train)\n",
    "print(cross_val_score(dt, x_train, y_train, scoring='accuracy', cv=5).mean())\n",
    "print(dt.score(x_test, y_test))"
   ]
  },
  {
   "cell_type": "code",
   "execution_count": 13,
   "metadata": {},
   "outputs": [
    {
     "data": {
      "image/png": "[encoded data removed]",
      "text/plain": [
       "<Figure size 432x288 with 1 Axes>"
      ]
     },
     "metadata": {
      "needs_background": "light"
     },
     "output_type": "display_data"
    }
   ],
   "source": [
    "accuracy = []\n",
    "train_acc = []\n",
    "max_estimators = 100\n",
    "for i in range(25, max_estimators):\n",
    "    score = cross_val_score(GradientBoostingClassifier(\n",
    "        n_estimators=i, learning_rate=10.0/float(i), \n",
    "        max_depth=6, min_samples_leaf=10, min_samples_split=20), \n",
    "                            x_train, y_train, cv=5, scoring='accuracy').mean()\n",
    "    model = GradientBoostingClassifier(\n",
    "        n_estimators=i, learning_rate=10.0/float(i), \n",
    "        max_depth=6, min_samples_leaf=10, min_samples_split=20)\n",
    "    model.fit(x_train, y_train)\n",
    "    accuracy.append(score)\n",
    "    train_acc.append(model.score(x_train, y_train))\n",
    "plt.plot(range(25, max_estimators), accuracy, label='Validation acc')\n",
    "plt.plot(range(25, max_estimators), train_acc, label='Train acc')\n",
    "plt.legend()\n",
    "plt.show()"
   ]
  },
  {
   "cell_type": "code",
   "execution_count": 14,
   "metadata": {
    "scrolled": true
   },
   "outputs": [
    {
     "data": {
      "text/plain": [
       "8     0.903907\n",
       "17    0.904418\n",
       "10    0.904674\n",
       "2     0.904675\n",
       "3     0.904932\n",
       "58    0.905440\n",
       "50    0.905441\n",
       "9     0.905443\n",
       "35    0.906208\n",
       "13    0.906208\n",
       "67    0.906463\n",
       "18    0.906464\n",
       "48    0.906464\n",
       "16    0.906719\n",
       "31    0.906719\n",
       "66    0.906974\n",
       "69    0.906975\n",
       "74    0.906976\n",
       "7     0.906978\n",
       "72    0.907231\n",
       "68    0.907231\n",
       "34    0.907484\n",
       "49    0.907486\n",
       "11    0.907486\n",
       "25    0.907486\n",
       "5     0.907486\n",
       "23    0.907740\n",
       "22    0.907741\n",
       "60    0.907997\n",
       "43    0.907997\n",
       "        ...   \n",
       "32    0.909019\n",
       "59    0.909019\n",
       "64    0.909019\n",
       "30    0.909019\n",
       "37    0.909020\n",
       "39    0.909020\n",
       "12    0.909021\n",
       "14    0.909021\n",
       "38    0.909274\n",
       "27    0.909276\n",
       "1     0.909530\n",
       "73    0.909531\n",
       "28    0.909531\n",
       "24    0.909784\n",
       "63    0.909785\n",
       "53    0.909785\n",
       "70    0.909785\n",
       "36    0.909786\n",
       "21    0.909786\n",
       "47    0.910041\n",
       "41    0.910043\n",
       "52    0.910297\n",
       "40    0.910298\n",
       "46    0.910807\n",
       "62    0.911063\n",
       "56    0.911063\n",
       "20    0.911064\n",
       "51    0.911318\n",
       "57    0.911319\n",
       "65    0.911576\n",
       "Length: 75, dtype: float64"
      ]
     },
     "execution_count": 14,
     "metadata": {},
     "output_type": "execute_result"
    }
   ],
   "source": [
    "pd.Series(accuracy).sort_values()"
   ]
  },
  {
   "cell_type": "code",
   "execution_count": 21,
   "metadata": {},
   "outputs": [
    {
     "name": "stdout",
     "output_type": "stream",
     "text": [
      "gscv\n",
      "GradientBoostingClassifier(criterion='friedman_mse', init=None,\n",
      "              learning_rate=0.1111111111111111, loss='deviance',\n",
      "              max_depth=6, max_features=None, max_leaf_nodes=None,\n",
      "              min_impurity_decrease=0.05, min_impurity_split=None,\n",
      "              min_samples_leaf=80, min_samples_split=600,\n",
      "              min_weight_fraction_leaf=0.0, n_estimators=90,\n",
      "              presort='auto', random_state=None, subsample=1.0, verbose=0,\n",
      "              warm_start=False)\n"
     ]
    }
   ],
   "source": [
    "vals = np.linspace(0.03, 0.1, 8)\n",
    "min_leaf = [20,40,60,80,100,120]\n",
    "min_split = [100,200,40,600,800]\n",
    "param_grid = [{'min_impurity_decrease': vals, \n",
    "               'min_samples_leaf':min_leaf, 'min_samples_split':min_split}]\n",
    "gs = GridSearchCV(estimator=GradientBoostingClassifier(max_depth=6, n_estimators=90, learning_rate=10/90), \n",
    "                  param_grid=param_grid, scoring='accuracy', cv=5, return_train_score=True)\n",
    "gscv = gs.fit(x_train, y_train)\n",
    "print('gscv')\n",
    "cv_result = pd.DataFrame.from_dict(gscv.cv_results_)\n",
    "with open('cv_result.csv', 'w') as f:\n",
    "    cv_result.to_csv(f)\n",
    "print(gscv.best_estimator_)"
   ]
  },
  {
   "cell_type": "code",
   "execution_count": 22,
   "metadata": {},
   "outputs": [
    {
     "name": "stdout",
     "output_type": "stream",
     "text": [
      "0.9348326092512139\n",
      "0.9177091192965608\n",
      "0.912621359223301\n"
     ]
    }
   ],
   "source": [
    "gbdt = GradientBoostingClassifier(criterion='friedman_mse', init=None,\n",
    "              learning_rate=10/90, loss='deviance',\n",
    "              max_depth=6, max_features=None, max_leaf_nodes=None,\n",
    "              min_impurity_decrease=0.05,\n",
    "              min_impurity_split=None, min_samples_leaf=80,\n",
    "              min_samples_split=600, min_weight_fraction_leaf=0.0,\n",
    "              n_estimators=90, presort='auto', random_state=3407,\n",
    "              subsample=1.0, verbose=0, warm_start=False)\n",
    "gbdt.fit(x_train, y_train)\n",
    "print(gbdt.score(x_train, y_train))\n",
    "print(cross_val_score(gbdt, x_train, y_train, scoring='accuracy', cv=5).mean())\n",
    "print(gbdt.score(x_test, y_test))"
   ]
  },
  {
   "cell_type": "markdown",
   "metadata": {},
   "source": [
    "### SVM"
   ]
  },
  {
   "cell_type": "code",
   "execution_count": 23,
   "metadata": {},
   "outputs": [
    {
     "name": "stdout",
     "output_type": "stream",
     "text": [
      "0.8998242708711004\n"
     ]
    }
   ],
   "source": [
    "svc = SVC(kernel='linear')\n",
    "print(cross_val_score(svc, x_train, y_train, scoring='accuracy', cv=5).mean())\n",
    "svc.fit(x_train, y_train)\n",
    "sep = np.array(svc.support_vectors_).reshape(-1, 2)"
   ]
  },
  {
   "cell_type": "code",
   "execution_count": 24,
   "metadata": {},
   "outputs": [
    {
     "name": "stdout",
     "output_type": "stream",
     "text": [
      "SVC(C=20.0, cache_size=200, class_weight=None, coef0=0.0,\n",
      "  decision_function_shape='ovr', degree=3, gamma='auto', kernel='linear',\n",
      "  max_iter=-1, probability=False, random_state=None, shrinking=True,\n",
      "  tol=0.001, verbose=False)\n",
      "0.909276769741886\n"
     ]
    }
   ],
   "source": [
    "# 调参主要使用C系数（松弛变量），核函数的选择， 还有degree是poly的次数，gamma是核函数的系数\n",
    "param_grid = [{'kernel': ['linear', 'rbf', 'poly', 'sigmoid'], 'C': [0.5, 1.0, 3.0, 5.0, 8.0, 12.0, 15.0, 20.0]}]\n",
    "gs = GridSearchCV(estimator=SVC(), param_grid=param_grid, scoring='accuracy', cv=5,\n",
    "                    n_jobs=multiprocessing.cpu_count())\n",
    "gs.fit(x_train, y_train)\n",
    "print(gs.best_estimator_)\n",
    "print(gs.best_score_)"
   ]
  },
  {
   "cell_type": "code",
   "execution_count": 25,
   "metadata": {},
   "outputs": [
    {
     "data": {
      "image/png": "[encoded data removed]",
      "text/plain": [
       "<Figure size 432x288 with 1 Axes>"
      ]
     },
     "metadata": {
      "needs_background": "light"
     },
     "output_type": "display_data"
    }
   ],
   "source": [
    "accuracy = []\n",
    "train_acc = []\n",
    "for i in range(20, 30):\n",
    "    score = cross_val_score(SVC(C=i, kernel='linear'), x_train, y_train, cv=5, scoring='accuracy').mean()\n",
    "    model = SVC(C=i, kernel='rbf', gamma=0.2)\n",
    "    model.fit(x_train, y_train)\n",
    "    accuracy.append(score)\n",
    "    train_acc.append(model.score(x_train, y_train))\n",
    "plt.plot(range(20, 30), accuracy, label='Validation acc')\n",
    "plt.plot(range(20, 30), train_acc, label='Train acc')\n",
    "plt.legend()\n",
    "plt.show()"
   ]
  },
  {
   "cell_type": "code",
   "execution_count": 28,
   "metadata": {},
   "outputs": [
    {
     "name": "stdout",
     "output_type": "stream",
     "text": [
      "0.9097895496696096\n",
      "0.9108101201124457\n",
      "0.9466019417475728\n"
     ]
    }
   ],
   "source": [
    "svc = SVC(kernel='linear', C=23)\n",
    "print(cross_val_score(svc, x_train, y_train, scoring='accuracy', cv=5).mean())\n",
    "svc.fit(x_train, y_train)\n",
    "print(svc.score(x_train, y_train))\n",
    "sep = np.array(svc.support_vectors_).reshape(-1, 2)\n",
    "# print(sep)\n",
    "print(svc.score(x_test, y_test))"
   ]
  },
  {
   "cell_type": "markdown",
   "metadata": {},
   "source": [
    "### KNN"
   ]
  },
  {
   "cell_type": "code",
   "execution_count": 29,
   "metadata": {},
   "outputs": [
    {
     "name": "stdout",
     "output_type": "stream",
     "text": [
      "KNeighborsClassifier(algorithm='auto', leaf_size=30, metric='minkowski',\n",
      "           metric_params=None, n_jobs=1, n_neighbors=40, p=2,\n",
      "           weights='distance')\n",
      "0.8990544339381549\n"
     ]
    }
   ],
   "source": [
    "param_grid = [{'weights': ['uniform','distance'], 'n_neighbors': [15, 20, 25, 30, 35, 40]}]\n",
    "gs = GridSearchCV(estimator=KNeighborsClassifier(algorithm='auto'), \n",
    "                  param_grid=param_grid, scoring='accuracy', cv=5, n_jobs=multiprocessing.cpu_count())\n",
    "gs.fit(x_train, y_train)\n",
    "print(gs.best_estimator_)\n",
    "print(gs.best_score_)"
   ]
  },
  {
   "cell_type": "code",
   "execution_count": 30,
   "metadata": {},
   "outputs": [
    {
     "data": {
      "image/png": "[encoded data removed]",
      "text/plain": [
       "<Figure size 432x288 with 1 Axes>"
      ]
     },
     "metadata": {
      "needs_background": "light"
     },
     "output_type": "display_data"
    }
   ],
   "source": [
    "accuracy = []\n",
    "train_acc = []\n",
    "for i in range(35, 55):\n",
    "    score = cross_val_score(KNeighborsClassifier(n_neighbors=i, algorithm='auto', weights='distance'), \n",
    "                            x_train, y_train, cv=5, scoring='accuracy').mean()\n",
    "    model = KNeighborsClassifier(n_neighbors=i, algorithm='auto', weights='uniform')\n",
    "    model.fit(x_train, y_train)\n",
    "    accuracy.append(score)\n",
    "    train_acc.append(model.score(x_train, y_train))\n",
    "plt.plot(range(35, 55), accuracy, label='Validation acc')\n",
    "plt.plot(range(35, 55), train_acc, label='Train acc')\n",
    "plt.legend()\n",
    "plt.show()"
   ]
  },
  {
   "cell_type": "code",
   "execution_count": 32,
   "metadata": {},
   "outputs": [
    {
     "name": "stdout",
     "output_type": "stream",
     "text": [
      "0.8990553742736476\n",
      "0.9563106796116505\n",
      "1.0\n"
     ]
    }
   ],
   "source": [
    "knn = KNeighborsClassifier(n_neighbors=40, weights='distance', algorithm='auto')\n",
    "print(cross_val_score(knn, x_train, y_train, scoring='accuracy', cv=5).mean())\n",
    "knn.fit(x_train, y_train)\n",
    "print(knn.score(x_test, y_test))\n",
    "print(knn.score(x_train, y_train))"
   ]
  },
  {
   "cell_type": "markdown",
   "metadata": {},
   "source": [
    "### ANN"
   ]
  },
  {
   "cell_type": "code",
   "execution_count": 33,
   "metadata": {},
   "outputs": [],
   "source": [
    "import torch\n",
    "import torch.nn as nn\n",
    "import torch.nn.functional as F\n",
    "import torch.optim as optim\n",
    "from torch.utils.data import DataLoader, TensorDataset, random_split"
   ]
  },
  {
   "cell_type": "code",
   "execution_count": 35,
   "metadata": {},
   "outputs": [],
   "source": [
    "class MLP(nn.Module):\n",
    "    def __init__(self):\n",
    "        super().__init__()\n",
    "        self.fc1 = nn.Linear(20, 64)\n",
    "        self.fc2 = nn.Linear(64, 32)\n",
    "        self.fc3 = nn.Linear(32, 2)\n",
    "        self.bn1 = nn.BatchNorm1d(64)\n",
    "        self.bn2 = nn.BatchNorm1d(32)\n",
    "        self.dropout = nn.Dropout(0.125)\n",
    "        self.relu = nn.ReLU()\n",
    "        \n",
    "        self.apply(self._init_weights)\n",
    "    \n",
    "    def forward(self, x):\n",
    "        x_copy = x.clone()\n",
    "        x = self.relu(self.fc1(x))\n",
    "        x = self.relu(self.fc2(x))\n",
    "        #x = self.relu(self.bn1(self.fc1(x)))\n",
    "        #x = self.dropout(x)\n",
    "        #x = self.relu(self.bn2(self.fc2(x)))\n",
    "        #x = self.dropout(x)\n",
    "        x = self.fc3(x)\n",
    "        return x#.squeeze()\n",
    "    \n",
    "    def _init_weights(self, m):\n",
    "        if isinstance(m, nn.Linear):\n",
    "            nn.init.xavier_uniform_(m.weight)\n",
    "            nn.init.constant_(m.bias, 0)\n",
    "        elif isinstance(m, nn.BatchNorm1d):\n",
    "            nn.init.constant_(m.bias, 0)\n",
    "            nn.init.constant_(m.weight, 1)"
   ]
  },
  {
   "cell_type": "code",
   "execution_count": 36,
   "metadata": {},
   "outputs": [],
   "source": [
    "batch_size = 64\n",
    "train_dataset = TensorDataset(torch.Tensor(x_train), torch.Tensor(y_train.values))\n",
    "train_length = int(len(train_dataset) * 0.9)\n",
    "train_dataset, dev_dataset = random_split(train_dataset, [train_length, len(train_dataset)-train_length])\n",
    "train_loader = DataLoader(train_dataset, batch_size=batch_size, shuffle=True)\n",
    "dev_loader = DataLoader(dev_dataset, batch_size=batch_size, shuffle=False)\n",
    "\n",
    "test_dataset = TensorDataset(torch.Tensor(x_test), torch.Tensor(y_test.values))\n",
    "test_loader = DataLoader(test_dataset, batch_size=batch_size, shuffle=False)"
   ]
  },
  {
   "cell_type": "code",
   "execution_count": 37,
   "metadata": {},
   "outputs": [],
   "source": [
    "batch_num = np.ceil(train_length / batch_size)\n",
    "epoch = 80\n",
    "max_lr = 0.3\n",
    "\n",
    "#torch.cuda.empty_cache()\n",
    "torch.manual_seed(3407)\n",
    "model = MLP()"
   ]
  },
  {
   "cell_type": "code",
   "execution_count": 38,
   "metadata": {},
   "outputs": [],
   "source": [
    "batch_loss = list()\n",
    "batch_acc = list()\n",
    "eval_loss = list()\n",
    "eval_acc = list()\n",
    "pred_list = list()\n",
    "target_list = list()\n",
    "tmp_eval_loss = 0\n",
    "tmp_max_loss = -np.inf\n",
    "patience_charge = 0"
   ]
  },
  {
   "cell_type": "code",
   "execution_count": 39,
   "metadata": {},
   "outputs": [],
   "source": [
    "optimizer = torch.optim.AdamW(filter(lambda p: p.requires_grad, model.parameters()), lr=max_lr, weight_decay=1e-03, amsgrad=False)\n",
    "scheduler = torch.optim.lr_scheduler.StepLR(optimizer, step_size=10*batch_num, gamma=0.8, last_epoch=-1)\n",
    "loss_fn = nn.CrossEntropyLoss()"
   ]
  },
  {
   "cell_type": "code",
   "execution_count": 40,
   "metadata": {
    "scrolled": true
   },
   "outputs": [
    {
     "name": "stdout",
     "output_type": "stream",
     "text": [
      "Epoch: 0, batch: 0, loss: 1.063\n",
      "Epoch: 0, train ave.acc: 0.809\n",
      "dev set:\n",
      "Epoch: 0, dev ave.loss: 0.4038, ave.acc: 0.88\n",
      "\n",
      "Epoch: 1, batch: 0, loss: 0.3455\n",
      "Epoch: 1, train ave.acc: 0.889\n",
      "dev set:\n",
      "Epoch: 1, dev ave.loss: 0.4006, ave.acc: 0.88\n",
      "\n",
      "Epoch: 2, batch: 0, loss: 0.2807\n",
      "Epoch: 2, train ave.acc: 0.889\n",
      "dev set:\n",
      "Epoch: 2, dev ave.loss: 0.3984, ave.acc: 0.88\n",
      "\n",
      "Epoch: 3, batch: 0, loss: 0.2961\n",
      "Epoch: 3, train ave.acc: 0.889\n",
      "dev set:\n",
      "Epoch: 3, dev ave.loss: 0.3985, ave.acc: 0.88\n",
      "\n",
      "Epoch: 4, batch: 0, loss: 0.3243\n",
      "Epoch: 4, train ave.acc: 0.889\n",
      "dev set:\n",
      "Epoch: 4, dev ave.loss: 0.4054, ave.acc: 0.88\n",
      "\n",
      "Epoch: 5, batch: 0, loss: 0.3112\n",
      "Epoch: 5, train ave.acc: 0.889\n",
      "dev set:\n",
      "Epoch: 5, dev ave.loss: 0.3991, ave.acc: 0.88\n",
      "\n",
      "Epoch: 6, batch: 0, loss: 0.1903\n",
      "Epoch: 6, train ave.acc: 0.889\n",
      "dev set:\n",
      "Epoch: 6, dev ave.loss: 0.3982, ave.acc: 0.88\n",
      "\n",
      "Epoch: 7, batch: 0, loss: 0.4368\n",
      "Epoch: 7, train ave.acc: 0.889\n",
      "dev set:\n",
      "Epoch: 7, dev ave.loss: 0.407, ave.acc: 0.88\n",
      "\n",
      "Epoch: 8, batch: 0, loss: 0.3111\n",
      "Epoch: 8, train ave.acc: 0.889\n",
      "dev set:\n",
      "Epoch: 8, dev ave.loss: 0.3984, ave.acc: 0.88\n",
      "\n",
      "Epoch: 9, batch: 0, loss: 0.3238\n",
      "Epoch: 9, train ave.acc: 0.889\n",
      "dev set:\n",
      "Epoch: 9, dev ave.loss: 0.4046, ave.acc: 0.88\n",
      "\n",
      "Epoch: 10, batch: 0, loss: 0.1739\n",
      "Epoch: 10, train ave.acc: 0.889\n",
      "dev set:\n",
      "Epoch: 10, dev ave.loss: 0.4002, ave.acc: 0.88\n",
      "\n",
      "Epoch: 11, batch: 0, loss: 0.2492\n",
      "Epoch: 11, train ave.acc: 0.889\n",
      "dev set:\n",
      "Epoch: 11, dev ave.loss: 0.4164, ave.acc: 0.88\n",
      "\n",
      "Epoch: 12, batch: 0, loss: 0.2742\n",
      "Epoch: 12, train ave.acc: 0.889\n",
      "dev set:\n",
      "Epoch: 12, dev ave.loss: 0.4022, ave.acc: 0.88\n",
      "\n",
      "Epoch: 13, batch: 0, loss: 0.4117\n",
      "Epoch: 13, train ave.acc: 0.889\n",
      "dev set:\n",
      "Epoch: 13, dev ave.loss: 0.4118, ave.acc: 0.88\n",
      "\n",
      "Epoch: 14, batch: 0, loss: 0.3484\n",
      "Epoch: 14, train ave.acc: 0.889\n",
      "dev set:\n",
      "Epoch: 14, dev ave.loss: 0.3988, ave.acc: 0.88\n",
      "\n",
      "Epoch: 15, batch: 0, loss: 0.2716\n",
      "Epoch: 15, train ave.acc: 0.889\n",
      "dev set:\n",
      "Epoch: 15, dev ave.loss: 0.4065, ave.acc: 0.88\n",
      "\n",
      "Epoch: 16, batch: 0, loss: 0.3111\n",
      "Epoch: 16, train ave.acc: 0.889\n",
      "dev set:\n",
      "Epoch: 16, dev ave.loss: 0.3995, ave.acc: 0.88\n",
      "\n",
      "Epoch: 17, batch: 0, loss: 0.4085\n",
      "Epoch: 17, train ave.acc: 0.889\n",
      "dev set:\n",
      "Epoch: 17, dev ave.loss: 0.4087, ave.acc: 0.88\n",
      "\n",
      "Epoch: 18, batch: 0, loss: 0.3112\n",
      "Epoch: 18, train ave.acc: 0.889\n",
      "dev set:\n",
      "Epoch: 18, dev ave.loss: 0.399, ave.acc: 0.88\n",
      "\n",
      "Epoch: 19, batch: 0, loss: 0.4698\n",
      "Epoch: 19, train ave.acc: 0.889\n",
      "dev set:\n",
      "Epoch: 19, dev ave.loss: 0.4034, ave.acc: 0.88\n",
      "\n",
      "Epoch: 20, batch: 0, loss: 0.4131\n",
      "Epoch: 20, train ave.acc: 0.889\n",
      "dev set:\n",
      "Epoch: 20, dev ave.loss: 0.4059, ave.acc: 0.88\n",
      "\n",
      "Early stop at epoch 20\n",
      "test set:\n",
      "Epoch: 20, test ave.loss: 0.2483\n"
     ]
    },
    {
     "data": {
      "image/png": "[encoded data removed]",
      "text/plain": [
       "<Figure size 432x288 with 1 Axes>"
      ]
     },
     "metadata": {
      "needs_background": "light"
     },
     "output_type": "display_data"
    },
    {
     "data": {
      "image/png": "[encoded data removed]",
      "text/plain": [
       "<Figure size 432x288 with 1 Axes>"
      ]
     },
     "metadata": {
      "needs_background": "light"
     },
     "output_type": "display_data"
    }
   ],
   "source": [
    "device = torch.device('cuda:0' if torch.cuda.is_available() else 'cpu')\n",
    "#model = model.to(device, non_blocking=True)\n",
    "\n",
    "for epoch_id in range(epoch):\n",
    "    model.train()\n",
    "    pred_list = list()\n",
    "    target_list = list()\n",
    "    for batch_id, (_input, _target) in enumerate(train_loader):\n",
    "        if torch.cuda.is_available():\n",
    "            device = next(model.parameters()).device\n",
    "            _input = _input.to(device, non_blocking=True)\n",
    "            _target = _target.to(device, non_blocking=True).long()\n",
    "        _output = model(_input)\n",
    "        #_output = torch.max(F.softmax(_output,dim=0),1)[1]\n",
    "        loss = loss_fn(_output, _target)\n",
    "        \n",
    "        _output = torch.max(F.softmax(_output,dim=0),1)[1]\n",
    "        pred_list.extend(_output.numpy())\n",
    "        target_list.extend(_target.numpy())\n",
    "        \n",
    "        optimizer.zero_grad()\n",
    "        loss.backward()\n",
    "        optimizer.step()\n",
    "        scheduler.step()\n",
    "        \n",
    "        if batch_id % 100 == 0:\n",
    "            print('Epoch: {}, batch: {}, loss: {:.4}'.format(epoch_id, batch_id, loss.item()))\n",
    "            batch_loss.append(loss.item())\n",
    "        \n",
    "        del _input, _target, loss\n",
    "        \n",
    "    batch_acc.append(np.sum(np.array(pred_list)==np.array(target_list)) / len(target_list))\n",
    "    print('Epoch: {}, train ave.acc: {:.3}'.format(epoch_id, batch_acc[-1]))\n",
    "        \n",
    "    print('dev set:')\n",
    "    model.eval()\n",
    "    tmp_eval_loss = 0.0\n",
    "    pred_list = list()\n",
    "    target_list = list()\n",
    "    for batch_id, (_input, _target) in enumerate(dev_loader):\n",
    "        if torch.cuda.is_available():\n",
    "            device = next(model.parameters()).device\n",
    "            _input = _input.to(device, non_blocking=True)\n",
    "            _target = _target.to(device, non_blocking=True).long()\n",
    "        with torch.no_grad():\n",
    "            _output = model(_input)\n",
    "            loss = loss_fn(_output, _target)\n",
    "            tmp_eval_loss += loss.item()\n",
    "            \n",
    "            _output = torch.max(F.softmax(_output,dim=0),1)[1]\n",
    "            pred_list.extend(_output.numpy())\n",
    "            target_list.extend(_target.numpy())\n",
    "\n",
    "    eval_loss.append(tmp_eval_loss / (batch_id+1))\n",
    "    eval_acc.append(np.sum(np.array(pred_list)==np.array(target_list)) / len(target_list))\n",
    "    print('Epoch: {}, dev ave.loss: {:.4}, ave.acc: {:.3}'.format(epoch_id, eval_loss[-1], eval_acc[-1]))\n",
    "    print()\n",
    "    if eval_acc[-1] > tmp_max_loss:\n",
    "        tmp_max_loss = eval_acc[-1]\n",
    "        patience_charge = 0\n",
    "        torch.save(model, './tmp_model.pkl')\n",
    "    else:\n",
    "        patience_charge += 1\n",
    "    \n",
    "    if patience_charge == 20:\n",
    "        print('Early stop at epoch {}'.format(epoch_id))\n",
    "        break\n",
    "\n",
    "model = model.to('cpu')\n",
    "model = torch.load('./tmp_model.pkl')\n",
    "\n",
    "print('test set:')\n",
    "model.eval()\n",
    "tmp_eval_loss = 0.0\n",
    "for batch_id, (_input, _target) in enumerate(test_loader):\n",
    "    if torch.cuda.is_available():\n",
    "        device = next(model.parameters()).device\n",
    "        _input = _input.to(device, non_blocking=True)\n",
    "        _target = _target.to(device, non_blocking=True).long()\n",
    "    with torch.no_grad():\n",
    "        _output = model(_input)\n",
    "        loss = loss_fn(_output, _target)\n",
    "    tmp_eval_loss += loss.item()\n",
    "print('Epoch: {}, test ave.loss: {:.4}'.format(epoch_id, tmp_eval_loss / (batch_id+1)))\n",
    "\n",
    "plt.figure()\n",
    "plt.plot(list(range(1, len(batch_loss)+1)), batch_loss, label='train_loss')\n",
    "plt.plot(np.arange(1, len(eval_loss)+1)*6, eval_loss, label='dev_loss')\n",
    "plt.legend()\n",
    "plt.xlabel('# 100*btach')\n",
    "plt.show()\n",
    "\n",
    "plt.figure()\n",
    "plt.plot(np.arange(1, len(batch_acc)+1)*6, batch_acc, label='train_acc')\n",
    "plt.plot(np.arange(1, len(eval_acc)+1)*6, eval_acc, label='dev_acc')\n",
    "plt.legend()\n",
    "plt.xlabel('# 100*btach')\n",
    "plt.show()"
   ]
  },
  {
   "cell_type": "code",
   "execution_count": 41,
   "metadata": {},
   "outputs": [
    {
     "name": "stdout",
     "output_type": "stream",
     "text": [
      "train ave.acc: 0.889\n",
      "dev ave.acc: 0.8801\n",
      "test ave.acc: 0.9369\n"
     ]
    }
   ],
   "source": [
    "model.eval()\n",
    "pred_list = list()\n",
    "target_list = list()\n",
    "for batch_id, (_input, _target) in enumerate(train_loader):\n",
    "    if torch.cuda.is_available():\n",
    "        device = next(model.parameters()).device\n",
    "        _input = _input.to(device, non_blocking=True)\n",
    "        _target = _target.to(device, non_blocking=True).long()\n",
    "    with torch.no_grad():\n",
    "        _output = model(_input)\n",
    "        _output = torch.max(F.softmax(_output,dim=0),1)[1]\n",
    "        pred_list.extend(_output.numpy())\n",
    "        target_list.extend(_target.numpy())\n",
    "\n",
    "acc = np.sum(np.array(pred_list)==np.array(target_list)) / len(target_list)\n",
    "print('train ave.acc: {:.4}'.format(acc))\n",
    "\n",
    "pred_list = list()\n",
    "target_list = list()\n",
    "for batch_id, (_input, _target) in enumerate(dev_loader):\n",
    "    if torch.cuda.is_available():\n",
    "        device = next(model.parameters()).device\n",
    "        _input = _input.to(device, non_blocking=True)\n",
    "        _target = _target.to(device, non_blocking=True).long()\n",
    "    with torch.no_grad():\n",
    "        _output = model(_input)\n",
    "        _output = torch.max(F.softmax(_output,dim=0),1)[1]\n",
    "        pred_list.extend(_output.numpy())\n",
    "        target_list.extend(_target.numpy())\n",
    "\n",
    "acc = np.sum(np.array(pred_list)==np.array(target_list)) / len(target_list)\n",
    "print('dev ave.acc: {:.4}'.format(acc))\n",
    "\n",
    "pred_list = list()\n",
    "target_list = list()\n",
    "for batch_id, (_input, _target) in enumerate(test_loader):\n",
    "    if torch.cuda.is_available():\n",
    "        device = next(model.parameters()).device\n",
    "        _input = _input.to(device, non_blocking=True)\n",
    "        _target = _target.to(device, non_blocking=True).long()\n",
    "    with torch.no_grad():\n",
    "        _output = model(_input)\n",
    "        _output = torch.max(F.softmax(_output,dim=0),1)[1]\n",
    "        pred_list.extend(_output.numpy())\n",
    "        target_list.extend(_target.numpy())\n",
    "\n",
    "acc = np.sum(np.array(pred_list)==np.array(target_list)) / len(target_list)\n",
    "print('test ave.acc: {:.4}'.format(acc))"
   ]
  },
  {
   "cell_type": "code",
   "execution_count": null,
   "metadata": {},
   "outputs": [],
   "source": []
  }
 ],
 "metadata": {
  "kernelspec": {
   "display_name": "Python 3",
   "language": "python",
   "name": "python3"
  },
  "language_info": {
   "codemirror_mode": {
    "name": "ipython",
    "version": 3
   },
   "file_extension": ".py",
   "mimetype": "text/x-python",
   "name": "python",
   "nbconvert_exporter": "python",
   "pygments_lexer": "ipython3",
   "version": "3.7.0"
  }
 },
 "nbformat": 4,
 "nbformat_minor": 2
}
